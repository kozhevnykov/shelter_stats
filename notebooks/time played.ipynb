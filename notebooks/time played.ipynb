{
 "cells": [
  {
   "cell_type": "code",
   "execution_count": 1,
   "id": "cd11d5d4",
   "metadata": {},
   "outputs": [],
   "source": [
    "# clean_data\n",
    "import os\n",
    "import re\n",
    "\n",
    "folder = 'dataHAX/data/'\n",
    "for filename in os.listdir(folder):\n",
    "    f = os.path.join(folder, filename)\n",
    "    row = 0\n",
    "    with open(f, 'r', encoding='utf-8') as file:\n",
    "        for line in file:\n",
    "            if line == \"\\n\":\n",
    "                continue\n",
    "            else:\n",
    "                # print(line, end=\"\")\n",
    "                pass \n",
    "        break"
   ]
  },
  {
   "cell_type": "code",
   "execution_count": null,
   "id": "795a3b39",
   "metadata": {},
   "outputs": [],
   "source": [
    "# p = re.compile(\"(\\d+\\.?){3} \\d+:\\d+:\\d+.\\d : Game stopped\")\n",
    "# bool(p.match(\"10.09.2022 15:38:22.0 : Game started\"))"
   ]
  },
  {
   "cell_type": "code",
   "execution_count": 115,
   "id": "6640558e",
   "metadata": {},
   "outputs": [],
   "source": [
    "def match_finder(file):\n",
    "    # \"dataHAX/data/out__2022-09-10_23-59-59.log\"\n",
    "    list_of_matches = []\n",
    "    game_stopped = re.compile(\"(\\d+\\.?){3} \\d+:\\d+:\\d+.\\d : Game stopped\")\n",
    "    current_match = []\n",
    "\n",
    "    for line in file:\n",
    "        if game_stopped.match(line):\n",
    "            if current_match[1:] != [] : \n",
    "                list_of_matches.append(current_match[1:])\n",
    "            current_match = []\n",
    "        elif line.strip():\n",
    "                current_match.append(line.strip())    \n",
    "    return list_of_matches\n",
    "\n",
    "\n",
    "def starting_lineup(match):\n",
    "    players = {'Red' : [], 'Blue': []}\n",
    "    game_started = re.compile(\"(\\d+\\.?){3} \\d+:\\d+:\\d+.\\d : Game started\")\n",
    "    player_side = re.compile(\"(?:\\d+\\.?){3} \\d+:\\d+:\\d+.\\d : (.*) was moved to (\\w{3,4})$\")\n",
    "    for event in match:\n",
    "        if game_started.match(event):\n",
    "            break\n",
    "        if player_side.match(event):\n",
    "            players[player_side.match(event).group(2)].append(player_side.match(event).group(1))\n",
    "    return players\n",
    "\n",
    "\n",
    "def match_result(match):\n",
    "    winner = 0\n",
    "    the_event = match[-1]    \n",
    "    for m in match:\n",
    "        if m.find(' : 📢 : ') != -1:\n",
    "            the_event = m            \n",
    "            \n",
    "    score_limit = re.compile(\"(?:\\d+\\.?){3} \\d+:\\d+:\\d+.\\d : 📢 : (.?)🏆 Лимит по очкам! .*\")\n",
    "    time_limit = re.compile(\"(?:\\d+\\.?){3} \\d+:\\d+:\\d+.\\d : 📢 : (.?)🏆 Время вышло.*\")\n",
    "    if score_limit.match(the_event):\n",
    "        if score_limit.match(the_event).group(1) == \"🔵\":\n",
    "            winner = 2\n",
    "        else: \n",
    "            winner = 1\n",
    "    elif time_limit.match(the_event):\n",
    "        if time_limit.match(the_event).group(1) == \"🔵\":\n",
    "            winner = 2\n",
    "        else: \n",
    "            winner = 1\n",
    "    return winner\n",
    "\n",
    "def get_goals(match, players):\n",
    "    for line in match:\n",
    "        for name in players:\n",
    "            if '⚽'+name in line and \"Автогол\" not in line: \n",
    "                    stats[name][2] += 1\n",
    "\n",
    "\n",
    "def update_stats(winner, players, m):\n",
    "    if winner > 0 and len(players['Red']) == 4:\n",
    "        for p in players['Red'] + players['Blue']:\n",
    "            if p not in stats.keys():\n",
    "                stats[p] = [0, 1, 0]\n",
    "            else:\n",
    "                stats[p][1] += 1\n",
    "        if winner == 1:\n",
    "            for p in players['Red']:\n",
    "                stats[p][0] += 1\n",
    "        else: \n",
    "            for p in players['Blue']:\n",
    "                stats[p][0] += 1\n",
    "        \n",
    "        get_goals(m, players['Red'] + players['Blue'])\n"
   ]
  },
  {
   "cell_type": "code",
   "execution_count": 116,
   "id": "c34bbc28",
   "metadata": {},
   "outputs": [],
   "source": [
    "import os\n",
    "import re\n",
    "import sys\n",
    "\n",
    "\n",
    "def match_analyser(match):\n",
    "    m_players = starting_lineup(match)\n",
    "    m_result = match_result(match)\n",
    "    return m_result, m_players\n",
    "\n",
    "\n",
    "global stats\n",
    "stats = {}\n",
    "\n",
    "folder = 'dataHAX/data/'\n",
    "for filename in os.listdir(folder):\n",
    "    f = os.path.join(folder, filename)    \n",
    "    with open(f,'r', encoding='utf-8') as file:\n",
    "        match_list = match_finder(file)\n",
    "        for m in match_list:\n",
    "            win, players = match_analyser(m)\n",
    "            update_stats(win, players, m)\n",
    "\n",
    "\n",
    "sorted_stats = sorted(stats.items(), key=lambda kv: kv[1][1], reverse=True)"
   ]
  },
  {
   "cell_type": "code",
   "execution_count": 96,
   "id": "499ccc88",
   "metadata": {},
   "outputs": [
    {
     "data": {
      "text/plain": [
       "['17.09.2022 20:14:23.7 : gh was moved to Spectators by Окa',\n",
       " '17.09.2022 20:14:23.7 : Шахтар Донецьк was moved to Spectators by Окa',\n",
       " '17.09.2022 20:14:23.7 : йо13 💙💛 was moved to Spectators by Окa',\n",
       " '17.09.2022 20:14:23.8 : AzoT was moved to Spectators by Окa',\n",
       " '17.09.2022 20:14:26.7 : Окa was moved to Blue by Окa',\n",
       " '17.09.2022 20:14:34.3 : Шахтар Донецьк was moved to Blue by Окa',\n",
       " '17.09.2022 20:14:36.6 : YR was moved to Blue by Окa',\n",
       " '17.09.2022 20:14:37.6 : AzoT was moved to Blue by Окa',\n",
       " '17.09.2022 20:14:38.2 : Game started by Окa',\n",
       " '17.09.2022 20:19:30.7 : 📢 : 🔴 Гол для красных! | 1:0 – 04:45 | ⚽Швец. ← Neymar                   👟',\n",
       " '17.09.2022 20:19:33.0 : Red team won the match',\n",
       " '17.09.2022 20:19:33.2 : 📢 : 🔴🏆 Время вышло. Победа красных со счётом 1:0! Лучшие по Г+П: Швец. (1+0), Neymar                    (0+1)',\n",
       " '17.09.2022 20:19:37.9 : Окa was moved to Spectators by Окa']"
      ]
     },
     "execution_count": 96,
     "metadata": {},
     "output_type": "execute_result"
    }
   ],
   "source": [
    "match_list[213]"
   ]
  },
  {
   "cell_type": "code",
   "execution_count": 106,
   "id": "464c71ed",
   "metadata": {},
   "outputs": [],
   "source": []
  },
  {
   "cell_type": "code",
   "execution_count": 2,
   "id": "2a0a19fd",
   "metadata": {},
   "outputs": [
    {
     "ename": "NameError",
     "evalue": "name 'sorted_stats' is not defined",
     "output_type": "error",
     "traceback": [
      "\u001b[0;31m---------------------------------------------------------------------------\u001b[0m",
      "\u001b[0;31mNameError\u001b[0m                                 Traceback (most recent call last)",
      "\u001b[0;32m/var/folders/6y/cytrvf6n2y3cxrq8k0w2h0180000gn/T/ipykernel_5685/1281031571.py\u001b[0m in \u001b[0;36m<module>\u001b[0;34m\u001b[0m\n\u001b[0;32m----> 1\u001b[0;31m \u001b[0;32mfor\u001b[0m \u001b[0ms\u001b[0m \u001b[0;32min\u001b[0m \u001b[0msorted_stats\u001b[0m\u001b[0;34m:\u001b[0m\u001b[0;34m\u001b[0m\u001b[0;34m\u001b[0m\u001b[0m\n\u001b[0m\u001b[1;32m      2\u001b[0m     \u001b[0mprint\u001b[0m\u001b[0;34m(\u001b[0m\u001b[0ms\u001b[0m\u001b[0;34m[\u001b[0m\u001b[0;36m0\u001b[0m\u001b[0;34m]\u001b[0m\u001b[0;34m,\u001b[0m \u001b[0mround\u001b[0m\u001b[0;34m(\u001b[0m\u001b[0ms\u001b[0m\u001b[0;34m[\u001b[0m\u001b[0;36m1\u001b[0m\u001b[0;34m]\u001b[0m\u001b[0;34m[\u001b[0m\u001b[0;36m0\u001b[0m\u001b[0;34m]\u001b[0m\u001b[0;34m/\u001b[0m\u001b[0ms\u001b[0m\u001b[0;34m[\u001b[0m\u001b[0;36m1\u001b[0m\u001b[0;34m]\u001b[0m\u001b[0;34m[\u001b[0m\u001b[0;36m1\u001b[0m\u001b[0;34m]\u001b[0m\u001b[0;34m,\u001b[0m\u001b[0;36m2\u001b[0m\u001b[0;34m)\u001b[0m\u001b[0;34m,\u001b[0m \u001b[0ms\u001b[0m\u001b[0;34m[\u001b[0m\u001b[0;36m1\u001b[0m\u001b[0;34m]\u001b[0m\u001b[0;34m[\u001b[0m\u001b[0;36m1\u001b[0m\u001b[0;34m]\u001b[0m\u001b[0;34m,\u001b[0m \u001b[0ms\u001b[0m\u001b[0;34m[\u001b[0m\u001b[0;36m1\u001b[0m\u001b[0;34m]\u001b[0m\u001b[0;34m[\u001b[0m\u001b[0;36m2\u001b[0m\u001b[0;34m]\u001b[0m\u001b[0;34m,\u001b[0m \u001b[0msep\u001b[0m\u001b[0;34m=\u001b[0m\u001b[0;34m';;'\u001b[0m\u001b[0;34m)\u001b[0m\u001b[0;34m\u001b[0m\u001b[0;34m\u001b[0m\u001b[0m\n",
      "\u001b[0;31mNameError\u001b[0m: name 'sorted_stats' is not defined"
     ]
    }
   ],
   "source": [
    "for s in sorted_stats:\n",
    "    print(s[0], round(s[1][0]/s[1][1],2), s[1][1], s[1][2], sep=';;')"
   ]
  },
  {
   "cell_type": "code",
   "execution_count": null,
   "id": "79a11185",
   "metadata": {},
   "outputs": [],
   "source": []
  }
 ],
 "metadata": {
  "kernelspec": {
   "display_name": "Python 3 (ipykernel)",
   "language": "python",
   "name": "python3"
  },
  "language_info": {
   "codemirror_mode": {
    "name": "ipython",
    "version": 3
   },
   "file_extension": ".py",
   "mimetype": "text/x-python",
   "name": "python",
   "nbconvert_exporter": "python",
   "pygments_lexer": "ipython3",
   "version": "3.9.13"
  }
 },
 "nbformat": 4,
 "nbformat_minor": 5
}
